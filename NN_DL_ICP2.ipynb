{
  "nbformat": 4,
  "nbformat_minor": 0,
  "metadata": {
    "colab": {
      "provenance": [],
      "authorship_tag": "ABX9TyOJYkAw6IwWKzPXhk3f1wnB",
      "include_colab_link": true
    },
    "kernelspec": {
      "name": "python3",
      "display_name": "Python 3"
    },
    "language_info": {
      "name": "python"
    }
  },
  "cells": [
    {
      "cell_type": "markdown",
      "metadata": {
        "id": "view-in-github",
        "colab_type": "text"
      },
      "source": [
        "<a href=\"https://colab.research.google.com/github/Mohith-0/NN-ICP2/blob/main/NN_DL_ICP2.ipynb\" target=\"_parent\"><img src=\"https://colab.research.google.com/assets/colab-badge.svg\" alt=\"Open In Colab\"/></a>"
      ]
    },
    {
      "cell_type": "code",
      "execution_count": null,
      "metadata": {
        "id": "7x9WP8vVZst_"
      },
      "outputs": [],
      "source": []
    },
    {
      "cell_type": "code",
      "source": [
        "#1.1\n",
        "first_name = \"Mohith\"\n",
        "last_name = \"Duggirala\"\n",
        "\n",
        "def fullName(first_name , last_name):\n",
        "  return first_name + \" \" + last_name\n",
        "\n",
        "print(fullName(first_name , last_name))\n",
        "\n",
        "#1.2\n",
        "str = \"Good Evening\"\n",
        "\n",
        "def string_alternative(string):\n",
        "\n",
        "  res = \"\"\n",
        "  for i in range(0,len(string),2):\n",
        "    res += string[i]\n",
        "  print(res)\n",
        "\n",
        "def main():\n",
        "  string_alternative(str)\n",
        "\n",
        "main()"
      ],
      "metadata": {
        "colab": {
          "base_uri": "https://localhost:8080/"
        },
        "id": "RUwz4hw6ZtMK",
        "outputId": "cbcb1647-c803-4b20-8842-c255bac1c4e7"
      },
      "execution_count": 2,
      "outputs": [
        {
          "output_type": "stream",
          "name": "stdout",
          "text": [
            "Mohith Duggirala\n",
            "Go vnn\n"
          ]
        }
      ]
    },
    {
      "cell_type": "code",
      "source": [
        "from collections import Counter\n",
        "with open('/content/drive/My Drive/input.txt', 'r') as input_file:\n",
        "    lines = input_file.readlines()\n",
        "\n",
        "output_lines = []\n",
        "list_of_words = []\n",
        "\n",
        "for line in lines:\n",
        "    line = line.strip()\n",
        "\n",
        "    list_of_words.extend(line.split(\" \"))\n",
        "\n",
        "\n",
        "element_count = Counter(list_of_words)\n",
        "\n",
        "for element, count in element_count.items():\n",
        "  output_lines.append(f\"{element} - Count: {count}\")\n",
        "\n",
        "with open('/content/drive/My Drive/output.txt', 'w') as output_file:\n",
        "    output_file.write(\"Python Course\" + '\\n')\n",
        "    output_file.write(\"Deep Learning Course\" + '\\n')\n",
        "    output_file.write(\"Word_Count:\" + '\\n')\n",
        "    for line in output_lines:\n",
        "        output_file.write(line + '\\n')\n",
        "\n",
        "print(\"Output written to output.txt\")"
      ],
      "metadata": {
        "id": "8QGIm6YdZ5KA"
      },
      "execution_count": null,
      "outputs": []
    },
    {
      "cell_type": "code",
      "source": [
        "inchesList = list(map(int, input().split(\",\")))\n",
        "cmList = []\n",
        "cmList_comprehensions = []\n",
        "\n",
        "def inchToCm(inch):\n",
        "  return (inch * 2.54)\n",
        "\n",
        "# Nested Interactive loop\n",
        "for i in inchesList :\n",
        "    cmList.append(inchToCm(i))\n",
        "\n",
        "print (\"Nested Interactive loop : \\n\", cmList)\n",
        "\n",
        "# List Comprehension\n",
        "cmList_comprehensions = [inchToCm(inch) for inch in inchesList]\n",
        "\n",
        "\n",
        "print (\"List Comprehension : \\n\", cmList_comprehensions)"
      ],
      "metadata": {
        "id": "hV-Djwl2aFYW"
      },
      "execution_count": null,
      "outputs": []
    }
  ]
}